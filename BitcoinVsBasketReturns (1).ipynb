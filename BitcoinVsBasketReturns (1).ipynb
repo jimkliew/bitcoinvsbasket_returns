{
 "cells": [
  {
   "cell_type": "code",
   "execution_count": 2,
   "id": "6644dcbe",
   "metadata": {},
   "outputs": [],
   "source": [
    "import requests\n",
    "import pandas as pd\n",
    "import bs4\n",
    "import re\n",
    "import matplotlib.pyplot as plt\n",
    "import os\n",
    "import glob\n",
    "from datetime import datetime"
   ]
  },
  {
   "cell_type": "markdown",
   "id": "3732ceea",
   "metadata": {},
   "source": [
    "The below block takes Bitcoin CSV return data and calculates its returns alone."
   ]
  },
  {
   "cell_type": "code",
   "execution_count": 4,
   "id": "7ca9692e",
   "metadata": {},
   "outputs": [
    {
     "data": {
      "text/html": [
       "<div>\n",
       "<style scoped>\n",
       "    .dataframe tbody tr th:only-of-type {\n",
       "        vertical-align: middle;\n",
       "    }\n",
       "\n",
       "    .dataframe tbody tr th {\n",
       "        vertical-align: top;\n",
       "    }\n",
       "\n",
       "    .dataframe thead th {\n",
       "        text-align: right;\n",
       "    }\n",
       "</style>\n",
       "<table border=\"1\" class=\"dataframe\">\n",
       "  <thead>\n",
       "    <tr style=\"text-align: right;\">\n",
       "      <th></th>\n",
       "      <th>price</th>\n",
       "      <th>market_cap</th>\n",
       "      <th>total_volume</th>\n",
       "      <th>Returns</th>\n",
       "    </tr>\n",
       "    <tr>\n",
       "      <th>snapped_at</th>\n",
       "      <th></th>\n",
       "      <th></th>\n",
       "      <th></th>\n",
       "      <th></th>\n",
       "    </tr>\n",
       "  </thead>\n",
       "  <tbody>\n",
       "    <tr>\n",
       "      <th>2013-04-28 00:00:00+00:00</th>\n",
       "      <td>135.30</td>\n",
       "      <td>1.500518e+09</td>\n",
       "      <td>0.0</td>\n",
       "      <td>0.000000</td>\n",
       "    </tr>\n",
       "    <tr>\n",
       "      <th>2013-04-29 00:00:00+00:00</th>\n",
       "      <td>141.96</td>\n",
       "      <td>1.575032e+09</td>\n",
       "      <td>0.0</td>\n",
       "      <td>4.922395</td>\n",
       "    </tr>\n",
       "    <tr>\n",
       "      <th>2013-04-30 00:00:00+00:00</th>\n",
       "      <td>135.30</td>\n",
       "      <td>1.501657e+09</td>\n",
       "      <td>0.0</td>\n",
       "      <td>0.230932</td>\n",
       "    </tr>\n",
       "    <tr>\n",
       "      <th>2013-05-01 00:00:00+00:00</th>\n",
       "      <td>117.00</td>\n",
       "      <td>1.298952e+09</td>\n",
       "      <td>0.0</td>\n",
       "      <td>-13.294567</td>\n",
       "    </tr>\n",
       "    <tr>\n",
       "      <th>2013-05-02 00:00:00+00:00</th>\n",
       "      <td>103.43</td>\n",
       "      <td>1.148668e+09</td>\n",
       "      <td>0.0</td>\n",
       "      <td>-24.892857</td>\n",
       "    </tr>\n",
       "  </tbody>\n",
       "</table>\n",
       "</div>"
      ],
      "text/plain": [
       "                            price    market_cap  total_volume    Returns\n",
       "snapped_at                                                              \n",
       "2013-04-28 00:00:00+00:00  135.30  1.500518e+09           0.0   0.000000\n",
       "2013-04-29 00:00:00+00:00  141.96  1.575032e+09           0.0   4.922395\n",
       "2013-04-30 00:00:00+00:00  135.30  1.501657e+09           0.0   0.230932\n",
       "2013-05-01 00:00:00+00:00  117.00  1.298952e+09           0.0 -13.294567\n",
       "2013-05-02 00:00:00+00:00  103.43  1.148668e+09           0.0 -24.892857"
      ]
     },
     "execution_count": 4,
     "metadata": {},
     "output_type": "execute_result"
    }
   ],
   "source": [
    "bitcoin = pd.read_csv(\"C:\\\\Qilin\\\\Python\\\\CryptoReturnsModelling\\\\btc-usd-max.csv\")\n",
    "bitcoin.index = pd.to_datetime(bitcoin['snapped_at'])\n",
    "del bitcoin['snapped_at']\n",
    "bitcoin['Returns'] = bitcoin['price'].pct_change().cumsum().fillna(0).multiply(100)\n",
    "bitcoin.head()"
   ]
  },
  {
   "cell_type": "markdown",
   "id": "57f6a6c0",
   "metadata": {},
   "source": [
    "The block below is not currently functional. If done correctly it should take data directly from the coingecko website and calculate returns and aggregate them for every single coin from the first page of the site."
   ]
  },
  {
   "cell_type": "code",
   "execution_count": 62,
   "id": "2bb16567",
   "metadata": {},
   "outputs": [
    {
     "ename": "ValueError",
     "evalue": "No objects to concatenate",
     "output_type": "error",
     "traceback": [
      "\u001b[1;31m---------------------------------------------------------------------------\u001b[0m",
      "\u001b[1;31mValueError\u001b[0m                                Traceback (most recent call last)",
      "\u001b[1;32m<ipython-input-62-15d1e30b758e>\u001b[0m in \u001b[0;36m<module>\u001b[1;34m\u001b[0m\n\u001b[0;32m     31\u001b[0m         \u001b[0mcoinlist_names\u001b[0m\u001b[1;33m.\u001b[0m\u001b[0mappend\u001b[0m\u001b[1;33m(\u001b[0m\u001b[0mcoin\u001b[0m \u001b[1;33m+\u001b[0m \u001b[1;34m'-returns'\u001b[0m\u001b[1;33m)\u001b[0m\u001b[1;33m\u001b[0m\u001b[1;33m\u001b[0m\u001b[0m\n\u001b[0;32m     32\u001b[0m         \u001b[0mcoinlist\u001b[0m\u001b[1;33m.\u001b[0m\u001b[0mappend\u001b[0m\u001b[1;33m(\u001b[0m\u001b[0mtempdf\u001b[0m\u001b[1;33m)\u001b[0m\u001b[1;33m\u001b[0m\u001b[1;33m\u001b[0m\u001b[0m\n\u001b[1;32m---> 33\u001b[1;33m \u001b[0mfinal_df\u001b[0m \u001b[1;33m=\u001b[0m \u001b[0mpd\u001b[0m\u001b[1;33m.\u001b[0m\u001b[0mconcat\u001b[0m\u001b[1;33m(\u001b[0m\u001b[0mcoinlist\u001b[0m\u001b[1;33m,\u001b[0m \u001b[0maxis\u001b[0m\u001b[1;33m=\u001b[0m\u001b[1;36m1\u001b[0m\u001b[1;33m)\u001b[0m\u001b[1;33m\u001b[0m\u001b[1;33m\u001b[0m\u001b[0m\n\u001b[0m\u001b[0;32m     34\u001b[0m \u001b[0mfinal_df\u001b[0m\u001b[1;33m[\u001b[0m\u001b[1;34m'avgReturns'\u001b[0m\u001b[1;33m]\u001b[0m \u001b[1;33m=\u001b[0m \u001b[0mfinal_df\u001b[0m\u001b[1;33m[\u001b[0m\u001b[0mcoinlist_names\u001b[0m\u001b[1;33m]\u001b[0m\u001b[1;33m.\u001b[0m\u001b[0mmean\u001b[0m\u001b[1;33m(\u001b[0m\u001b[0maxis\u001b[0m\u001b[1;33m=\u001b[0m\u001b[1;36m1\u001b[0m\u001b[1;33m)\u001b[0m\u001b[1;33m\u001b[0m\u001b[1;33m\u001b[0m\u001b[0m\n",
      "\u001b[1;32m~\\anaconda3\\lib\\site-packages\\pandas\\core\\reshape\\concat.py\u001b[0m in \u001b[0;36mconcat\u001b[1;34m(objs, axis, join, ignore_index, keys, levels, names, verify_integrity, sort, copy)\u001b[0m\n\u001b[0;32m    283\u001b[0m     \u001b[0mValueError\u001b[0m\u001b[1;33m:\u001b[0m \u001b[0mIndexes\u001b[0m \u001b[0mhave\u001b[0m \u001b[0moverlapping\u001b[0m \u001b[0mvalues\u001b[0m\u001b[1;33m:\u001b[0m \u001b[1;33m[\u001b[0m\u001b[1;34m'a'\u001b[0m\u001b[1;33m]\u001b[0m\u001b[1;33m\u001b[0m\u001b[1;33m\u001b[0m\u001b[0m\n\u001b[0;32m    284\u001b[0m     \"\"\"\n\u001b[1;32m--> 285\u001b[1;33m     op = _Concatenator(\n\u001b[0m\u001b[0;32m    286\u001b[0m         \u001b[0mobjs\u001b[0m\u001b[1;33m,\u001b[0m\u001b[1;33m\u001b[0m\u001b[1;33m\u001b[0m\u001b[0m\n\u001b[0;32m    287\u001b[0m         \u001b[0maxis\u001b[0m\u001b[1;33m=\u001b[0m\u001b[0maxis\u001b[0m\u001b[1;33m,\u001b[0m\u001b[1;33m\u001b[0m\u001b[1;33m\u001b[0m\u001b[0m\n",
      "\u001b[1;32m~\\anaconda3\\lib\\site-packages\\pandas\\core\\reshape\\concat.py\u001b[0m in \u001b[0;36m__init__\u001b[1;34m(self, objs, axis, join, keys, levels, names, ignore_index, verify_integrity, copy, sort)\u001b[0m\n\u001b[0;32m    340\u001b[0m \u001b[1;33m\u001b[0m\u001b[0m\n\u001b[0;32m    341\u001b[0m         \u001b[1;32mif\u001b[0m \u001b[0mlen\u001b[0m\u001b[1;33m(\u001b[0m\u001b[0mobjs\u001b[0m\u001b[1;33m)\u001b[0m \u001b[1;33m==\u001b[0m \u001b[1;36m0\u001b[0m\u001b[1;33m:\u001b[0m\u001b[1;33m\u001b[0m\u001b[1;33m\u001b[0m\u001b[0m\n\u001b[1;32m--> 342\u001b[1;33m             \u001b[1;32mraise\u001b[0m \u001b[0mValueError\u001b[0m\u001b[1;33m(\u001b[0m\u001b[1;34m\"No objects to concatenate\"\u001b[0m\u001b[1;33m)\u001b[0m\u001b[1;33m\u001b[0m\u001b[1;33m\u001b[0m\u001b[0m\n\u001b[0m\u001b[0;32m    343\u001b[0m \u001b[1;33m\u001b[0m\u001b[0m\n\u001b[0;32m    344\u001b[0m         \u001b[1;32mif\u001b[0m \u001b[0mkeys\u001b[0m \u001b[1;32mis\u001b[0m \u001b[1;32mNone\u001b[0m\u001b[1;33m:\u001b[0m\u001b[1;33m\u001b[0m\u001b[1;33m\u001b[0m\u001b[0m\n",
      "\u001b[1;31mValueError\u001b[0m: No objects to concatenate"
     ]
    }
   ],
   "source": [
    "url1 = \"https://www.coingecko.com\"\n",
    "r = requests.get(url1)\n",
    "soup = bs4.BeautifulSoup(r.text, 'lxml')\n",
    "table = soup.find('table', {'class':'sort table mb-0 text-sm text-lg-normal table-scrollable'})\n",
    "allLinks = {}\n",
    "for link in table.find_all('a', {'class': 'tw-hidden lg:tw-flex font-bold tw-items-center tw-justify-between'}, href=True):\n",
    "    coin = link['href'].split('/')[3]\n",
    "    allLinks[coin] = link['href']\n",
    "\n",
    "    \n",
    "coinlist = []\n",
    "coinlist_names = []\n",
    "\n",
    "\n",
    "for k, v in allLinks.items():\n",
    "    r = requests.get(url1 + allLinks[k])\n",
    "    soup = bs4.BeautifulSoup(r.text, 'lxml')\n",
    "    dwnld = soup.find('a', {'class': 'dropdown-item'}, href=True)\n",
    "    if (dwnld.text == \"CSV\"):\n",
    "        urlCSV = url1 + dwnld['href']\n",
    "        tempdf = pd.read_csv(urlCSV);\n",
    "        \n",
    "        tempdf.index = pd.to_datetime(tempdf['snapped_at'])\n",
    "        tempdf.reindex(bitcoin.index)\n",
    "        del tempdf['snapped_at']\n",
    "        del tempdf['market_cap']\n",
    "        del tempdf['total_volume']\n",
    "        coinprice = coin + \"-price\"\n",
    "        tempdf.rename(columns={\"price\": coinprice}, inplace=True)\n",
    "        tempdf[coin + '-returns'] = tempdf[coinprice].pct_change().cumsum().fillna(0).multiply(100)\n",
    "        coinlist_names.append(coin + '-returns')\n",
    "        coinlist.append(tempdf)\n",
    "final_df = pd.concat(coinlist, axis=1)\n",
    "final_df['avgReturns'] = final_df[coinlist_names].mean(axis=1)"
   ]
  },
  {
   "cell_type": "markdown",
   "id": "2151178c",
   "metadata": {},
   "source": [
    "Below is a test of webscraping from coingecko. It does not work on Hopkins wifi, but will on eduroam."
   ]
  },
  {
   "cell_type": "code",
   "execution_count": 8,
   "id": "e6fb881b",
   "metadata": {
    "scrolled": true
   },
   "outputs": [
    {
     "name": "stdout",
     "output_type": "stream",
     "text": [
      "2022-02-23\n",
      "['Date', 'Market Cap', 'Volume', 'Open', 'Close']\n"
     ]
    },
    {
     "data": {
      "text/html": [
       "<div>\n",
       "<style scoped>\n",
       "    .dataframe tbody tr th:only-of-type {\n",
       "        vertical-align: middle;\n",
       "    }\n",
       "\n",
       "    .dataframe tbody tr th {\n",
       "        vertical-align: top;\n",
       "    }\n",
       "\n",
       "    .dataframe thead th {\n",
       "        text-align: right;\n",
       "    }\n",
       "</style>\n",
       "<table border=\"1\" class=\"dataframe\">\n",
       "  <thead>\n",
       "    <tr style=\"text-align: right;\">\n",
       "      <th></th>\n",
       "      <th>Market Cap</th>\n",
       "      <th>Volume</th>\n",
       "      <th>Open</th>\n",
       "      <th>Close</th>\n",
       "    </tr>\n",
       "    <tr>\n",
       "      <th>Date</th>\n",
       "      <th></th>\n",
       "      <th></th>\n",
       "      <th></th>\n",
       "      <th></th>\n",
       "    </tr>\n",
       "  </thead>\n",
       "  <tbody>\n",
       "    <tr>\n",
       "      <th>2022-02-21</th>\n",
       "      <td>$730381814665</td>\n",
       "      <td>$15998424231</td>\n",
       "      <td>$38514</td>\n",
       "      <td>N/A</td>\n",
       "    </tr>\n",
       "    <tr>\n",
       "      <th>2022-02-20</th>\n",
       "      <td>$761447243940</td>\n",
       "      <td>$11735183838</td>\n",
       "      <td>$40193</td>\n",
       "      <td>$38514</td>\n",
       "    </tr>\n",
       "    <tr>\n",
       "      <th>2022-02-19</th>\n",
       "      <td>$759881874201</td>\n",
       "      <td>$20130002755</td>\n",
       "      <td>$40073</td>\n",
       "      <td>$40193</td>\n",
       "    </tr>\n",
       "    <tr>\n",
       "      <th>2022-02-18</th>\n",
       "      <td>$770096677779</td>\n",
       "      <td>$22270664615</td>\n",
       "      <td>$40563</td>\n",
       "      <td>$40073</td>\n",
       "    </tr>\n",
       "    <tr>\n",
       "      <th>2022-02-17</th>\n",
       "      <td>$836256083784</td>\n",
       "      <td>$16847003857</td>\n",
       "      <td>$44063</td>\n",
       "      <td>$40563</td>\n",
       "    </tr>\n",
       "  </tbody>\n",
       "</table>\n",
       "</div>"
      ],
      "text/plain": [
       "               Market Cap        Volume    Open   Close\n",
       "Date                                                   \n",
       "2022-02-21  $730381814665  $15998424231  $38514     N/A\n",
       "2022-02-20  $761447243940  $11735183838  $40193  $38514\n",
       "2022-02-19  $759881874201  $20130002755  $40073  $40193\n",
       "2022-02-18  $770096677779  $22270664615  $40563  $40073\n",
       "2022-02-17  $836256083784  $16847003857  $44063  $40563"
      ]
     },
     "execution_count": 8,
     "metadata": {},
     "output_type": "execute_result"
    }
   ],
   "source": [
    "now = datetime.now()\n",
    "end_date = now.strftime(\"%Y-%m-%d\")\n",
    "print(end_date)\n",
    "\n",
    "url = \"https://www.coingecko.com/en/coins/bitcoin/historical_data/usd?start_date=2013-01-02&end_date=\"+end_date+\"#panel\"\n",
    "r = requests.get(url)\n",
    "soup = bs4.BeautifulSoup(r.text, 'lxml')\n",
    "table = soup.find('table', {'class':'table table-striped text-sm text-lg-normal'})\n",
    "body = table.find_all('tr')\n",
    "head = body[0]\n",
    "body_rows = body[1:]\n",
    "\n",
    "headings = []\n",
    "for item in head.find_all(\"th\"):\n",
    "    item = (item.text).rstrip('\\n')\n",
    "    headings.append(item)\n",
    "\n",
    "print(headings)\n",
    "rows = []\n",
    "for i in range(len(body_rows)):\n",
    "    minirow = []\n",
    "    for date in body_rows[i].find_all('th'):\n",
    "        cleaned = re.sub(\"((\\xa0)|(\\n)|,|$)\",\"\",date.text)\n",
    "        minirow.append(cleaned)\n",
    "    for item in body_rows[i].find_all('td'):\n",
    "        cleaned = re.sub(\"(\\xa0)|(\\n)|,|$\",\"\",item.text)\n",
    "        minirow.append(cleaned)\n",
    "    rows.append(minirow)\n",
    "    \n",
    "df = pd.DataFrame(data=rows, columns=headings)\n",
    "df.index = pd.to_datetime(df['Date'])\n",
    "del df['Date']\n",
    "df.head()"
   ]
  },
  {
   "cell_type": "markdown",
   "id": "c7e54453",
   "metadata": {},
   "source": [
    "The 2 blocks below take CSV files downloaded onto my laptop and works with the data from the top 15 coins currently. The returns suggest that investing in the top 15 as a basket would have produced greater returns since the inception of Bitcoin than investing in Bitcoin alone. The returns are calculated by evenly averaging the returns of each coin each day. This may not be the best method as the price amounts for each coin are very different, so it may be better to split a position among coins based on their dollar amount, and then calculate returns."
   ]
  },
  {
   "cell_type": "code",
   "execution_count": 47,
   "id": "e4805754",
   "metadata": {},
   "outputs": [],
   "source": [
    "path = r'C:\\Qilin\\Python\\CryptoReturnsModelling'\n",
    "all_files = glob.glob(os.path.join(path + \"/*.csv\"))\n",
    "\n",
    "coinlist = []\n",
    "coinlist_names = []\n",
    "\n",
    "for filename in os.listdir(path):\n",
    "    if filename.endswith('.csv'):\n",
    "        rip = filename.split('-')\n",
    "        coin = rip[0] + '-' + rip[1]\n",
    "        \n",
    "        f = os.path.join(path, filename)\n",
    "        tempdf = pd.read_csv(f)\n",
    "        tempdf.index = pd.to_datetime(tempdf['snapped_at'])\n",
    "        tempdf.reindex(bitcoin.index)\n",
    "        del tempdf['snapped_at']\n",
    "        del tempdf['market_cap']\n",
    "        del tempdf['total_volume']\n",
    "        coinprice = coin + \"-price\"\n",
    "        tempdf.rename(columns={\"price\": coinprice}, inplace=True)\n",
    "        tempdf[coin + '-returns'] = tempdf[coinprice].pct_change().cumsum().fillna(0).multiply(100)\n",
    "        coinlist_names.append(coin + '-returns')\n",
    "        coinlist.append(tempdf)\n",
    "final_df = pd.concat(coinlist, axis=1)\n",
    "final_df['avgReturns'] = final_df[coinlist_names].mean(axis=1)"
   ]
  },
  {
   "cell_type": "code",
   "execution_count": 46,
   "id": "cac2a29b",
   "metadata": {},
   "outputs": [
    {
     "data": {
      "image/png": "[encoded data removed]",
      "text/plain": [
       "<Figure size 432x288 with 1 Axes>"
      ]
     },
     "metadata": {
      "needs_background": "light"
     },
     "output_type": "display_data"
    }
   ],
   "source": [
    "plt.plot(final_df['avgReturns'])\n",
    "plt.plot(bitcoin['Returns'])\n",
    "plt.xlabel(\"Date\")\n",
    "plt.ylabel(\"Percent Returns\")\n",
    "plt.show()"
   ]
  }
 ],
 "metadata": {
  "kernelspec": {
   "display_name": "Python 3",
   "language": "python",
   "name": "python3"
  },
  "language_info": {
   "codemirror_mode": {
    "name": "ipython",
    "version": 3
   },
   "file_extension": ".py",
   "mimetype": "text/x-python",
   "name": "python",
   "nbconvert_exporter": "python",
   "pygments_lexer": "ipython3",
   "version": "3.8.8"
  }
 },
 "nbformat": 4,
 "nbformat_minor": 5
}
